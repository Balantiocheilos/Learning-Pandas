{
 "cells": [
  {
   "cell_type": "code",
   "execution_count": 17,
   "id": "0a6bae5a",
   "metadata": {},
   "outputs": [],
   "source": [
    "import pandas as pd\n",
    "import numpy as np\n",
    "fb=pd.read_csv('./data/mrbean_facebook_statuses_with_nulls.csv',\n",
    "              usecols=['status_message','status_type','link_name',\n",
    "                      'num_reactions','num_shares','num_likes'])"
   ]
  },
  {
   "cell_type": "code",
   "execution_count": 18,
   "id": "ce7fcf22",
   "metadata": {},
   "outputs": [
    {
     "data": {
      "text/html": [
       "<div>\n",
       "<style scoped>\n",
       "    .dataframe tbody tr th:only-of-type {\n",
       "        vertical-align: middle;\n",
       "    }\n",
       "\n",
       "    .dataframe tbody tr th {\n",
       "        vertical-align: top;\n",
       "    }\n",
       "\n",
       "    .dataframe thead th {\n",
       "        text-align: right;\n",
       "    }\n",
       "</style>\n",
       "<table border=\"1\" class=\"dataframe\">\n",
       "  <thead>\n",
       "    <tr style=\"text-align: right;\">\n",
       "      <th></th>\n",
       "      <th>status_message</th>\n",
       "      <th>link_name</th>\n",
       "      <th>status_type</th>\n",
       "      <th>num_reactions</th>\n",
       "      <th>num_shares</th>\n",
       "      <th>num_likes</th>\n",
       "    </tr>\n",
       "  </thead>\n",
       "  <tbody>\n",
       "    <tr>\n",
       "      <th>0</th>\n",
       "      <td>It's time for Mr Bean and Teddy to get ready f...</td>\n",
       "      <td>Mr Bean - Preparing To Go Camping</td>\n",
       "      <td>video</td>\n",
       "      <td>16570.0</td>\n",
       "      <td>338.0</td>\n",
       "      <td>16079</td>\n",
       "    </tr>\n",
       "    <tr>\n",
       "      <th>1</th>\n",
       "      <td>NaN</td>\n",
       "      <td>Timeline Photos</td>\n",
       "      <td>photo</td>\n",
       "      <td>119886.0</td>\n",
       "      <td>1657.0</td>\n",
       "      <td>114008</td>\n",
       "    </tr>\n",
       "    <tr>\n",
       "      <th>2</th>\n",
       "      <td>NaN</td>\n",
       "      <td>Timeline Photos</td>\n",
       "      <td>photo</td>\n",
       "      <td>NaN</td>\n",
       "      <td>10050.0</td>\n",
       "      <td>218579</td>\n",
       "    </tr>\n",
       "    <tr>\n",
       "      <th>3</th>\n",
       "      <td>Mr Bean is ready to do some shopping but bewar...</td>\n",
       "      <td>www.youtube.com</td>\n",
       "      <td>video</td>\n",
       "      <td>20913.0</td>\n",
       "      <td>257.0</td>\n",
       "      <td>20338</td>\n",
       "    </tr>\n",
       "    <tr>\n",
       "      <th>4</th>\n",
       "      <td>NaN</td>\n",
       "      <td>Timeline Photos</td>\n",
       "      <td>photo</td>\n",
       "      <td>223602.0</td>\n",
       "      <td>2228.0</td>\n",
       "      <td>215591</td>\n",
       "    </tr>\n",
       "  </tbody>\n",
       "</table>\n",
       "</div>"
      ],
      "text/plain": [
       "                                      status_message  \\\n",
       "0  It's time for Mr Bean and Teddy to get ready f...   \n",
       "1                                                NaN   \n",
       "2                                                NaN   \n",
       "3  Mr Bean is ready to do some shopping but bewar...   \n",
       "4                                                NaN   \n",
       "\n",
       "                           link_name status_type  num_reactions  num_shares  \\\n",
       "0  Mr Bean - Preparing To Go Camping       video        16570.0       338.0   \n",
       "1                    Timeline Photos       photo       119886.0      1657.0   \n",
       "2                    Timeline Photos       photo            NaN     10050.0   \n",
       "3                    www.youtube.com       video        20913.0       257.0   \n",
       "4                    Timeline Photos       photo       223602.0      2228.0   \n",
       "\n",
       "   num_likes  \n",
       "0      16079  \n",
       "1     114008  \n",
       "2     218579  \n",
       "3      20338  \n",
       "4     215591  "
      ]
     },
     "execution_count": 18,
     "metadata": {},
     "output_type": "execute_result"
    }
   ],
   "source": [
    "fb.head()"
   ]
  },
  {
   "cell_type": "code",
   "execution_count": 19,
   "id": "9bddbf0a",
   "metadata": {},
   "outputs": [
    {
     "name": "stdout",
     "output_type": "stream",
     "text": [
      "<class 'pandas.core.frame.DataFrame'>\n",
      "RangeIndex: 56 entries, 0 to 55\n",
      "Data columns (total 6 columns):\n",
      " #   Column          Non-Null Count  Dtype  \n",
      "---  ------          --------------  -----  \n",
      " 0   status_message  40 non-null     object \n",
      " 1   link_name       56 non-null     object \n",
      " 2   status_type     56 non-null     object \n",
      " 3   num_reactions   54 non-null     float64\n",
      " 4   num_shares      56 non-null     float64\n",
      " 5   num_likes       56 non-null     int64  \n",
      "dtypes: float64(2), int64(1), object(3)\n",
      "memory usage: 16.1 KB\n"
     ]
    }
   ],
   "source": [
    "fb.info(memory_usage='deep')"
   ]
  },
  {
   "cell_type": "code",
   "execution_count": 20,
   "id": "f60fd08a",
   "metadata": {},
   "outputs": [
    {
     "data": {
      "text/plain": [
       "video    32\n",
       "photo    22\n",
       "link      2\n",
       "Name: status_type, dtype: int64"
      ]
     },
     "execution_count": 20,
     "metadata": {},
     "output_type": "execute_result"
    }
   ],
   "source": [
    "fb['status_type'].value_counts()"
   ]
  },
  {
   "cell_type": "code",
   "execution_count": 21,
   "id": "19415f01",
   "metadata": {},
   "outputs": [],
   "source": [
    "fb['status_type']=fb['status_type'].astype('category')"
   ]
  },
  {
   "cell_type": "code",
   "execution_count": 22,
   "id": "68101233",
   "metadata": {},
   "outputs": [
    {
     "name": "stdout",
     "output_type": "stream",
     "text": [
      "<class 'pandas.core.frame.DataFrame'>\n",
      "RangeIndex: 56 entries, 0 to 55\n",
      "Data columns (total 6 columns):\n",
      " #   Column          Non-Null Count  Dtype   \n",
      "---  ------          --------------  -----   \n",
      " 0   status_message  40 non-null     object  \n",
      " 1   link_name       56 non-null     object  \n",
      " 2   status_type     56 non-null     category\n",
      " 3   num_reactions   54 non-null     float64 \n",
      " 4   num_shares      56 non-null     float64 \n",
      " 5   num_likes       56 non-null     int64   \n",
      "dtypes: category(1), float64(2), int64(1), object(2)\n",
      "memory usage: 13.0 KB\n"
     ]
    }
   ],
   "source": [
    "fb.info(memory_usage='deep')"
   ]
  },
  {
   "cell_type": "code",
   "execution_count": 23,
   "id": "b31b8849",
   "metadata": {},
   "outputs": [
    {
     "data": {
      "text/plain": [
       "Timeline Photos                                                               22\n",
       "www.youtube.com                                                                4\n",
       "Mr. Bean - Sneezing and Snoozing In Church                                     1\n",
       "Mr. Bean - Mystery creature                                                    1\n",
       "Mr. Bean - Saxophone Player                                                    1\n",
       "Mr. Bean - Elderly people on stairs                                            1\n",
       "Rowan Atkinson: I will never wave goodbye to Mr Bean                           1\n",
       "Mr. Bean's Happy Moments                                                       1\n",
       "Mr. Bean - At the Disco                                                        1\n",
       "Mr Bean - Preparing To Go Camping                                              1\n",
       "Mr. Bean - Shopping for Towels                                                 1\n",
       "Mr. Bean - Counting Sheep.                                                     1\n",
       "Mr. Bean - High Dive                                                           1\n",
       "Mr. Bean (NEW series) - The Lift                                               1\n",
       "Mr Bean - Country fete games -- Volksfest Spiele                               1\n",
       "Even in LEGO, Mr. Bean travels in comfort | The Brothers Brick | LEGO Blog     1\n",
       "Mr. Bean - Making A Sandwich                                                   1\n",
       "Mr. Bean (NEW series) - Ice Cream                                              1\n",
       "Mr Bean - Crazy Golf                                                           1\n",
       "Mr. Bean - Fixing Your Own Teeth                                               1\n",
       "Mr Bean - Restaurant Etiquette                                                 1\n",
       "Mr Bean (NEW series) - Litterbugs Clip                                         1\n",
       "Mr. Bean - Alarm Clock                                                         1\n",
       "Mr. Bean (NEW Series) - Dancing Bean                                           1\n",
       "Mr. Bean - Embarrassing Moments Compilation                                    1\n",
       "Mr. Bean - How to stop a baby from crying                                      1\n",
       "Mr Bean - Dinner for Two                                                       1\n",
       "Mr Bean - Chemistry experiment                                                 1\n",
       "Mr Bean - Sun Block                                                            1\n",
       "Mr Bean - Ray Of Sunshine                                                      1\n",
       "Mr Bean - Broken Tooth                                                         1\n",
       "Mr Bean - Prison Break                                                         1\n",
       "Name: link_name, dtype: int64"
      ]
     },
     "execution_count": 23,
     "metadata": {},
     "output_type": "execute_result"
    }
   ],
   "source": [
    "fb['link_name'].value_counts()"
   ]
  },
  {
   "cell_type": "code",
   "execution_count": 24,
   "id": "f22ac418",
   "metadata": {},
   "outputs": [],
   "source": [
    "fb['link_name']=fb['link_name'].astype('category')"
   ]
  },
  {
   "cell_type": "code",
   "execution_count": 25,
   "id": "c9df29bd",
   "metadata": {},
   "outputs": [
    {
     "name": "stdout",
     "output_type": "stream",
     "text": [
      "<class 'pandas.core.frame.DataFrame'>\n",
      "RangeIndex: 56 entries, 0 to 55\n",
      "Data columns (total 6 columns):\n",
      " #   Column          Non-Null Count  Dtype   \n",
      "---  ------          --------------  -----   \n",
      " 0   status_message  40 non-null     object  \n",
      " 1   link_name       56 non-null     category\n",
      " 2   status_type     56 non-null     category\n",
      " 3   num_reactions   54 non-null     float64 \n",
      " 4   num_shares      56 non-null     float64 \n",
      " 5   num_likes       56 non-null     int64   \n",
      "dtypes: category(2), float64(2), int64(1), object(1)\n",
      "memory usage: 12.4 KB\n"
     ]
    }
   ],
   "source": [
    "fb.info(memory_usage='deep')"
   ]
  },
  {
   "cell_type": "code",
   "execution_count": 26,
   "id": "582976f4",
   "metadata": {},
   "outputs": [],
   "source": [
    "fb['num_reactions'].fillna(0,inplace=True)\n",
    "fb['num_shares'].fillna(0,inplace=True)\n",
    "fb['num_reactions']=fb['num_reactions'].astype('int')\n",
    "fb['num_shares']=fb['num_shares'].astype('int')\n",
    "fb['num_likes']=fb['num_likes'].astype('int')"
   ]
  },
  {
   "cell_type": "code",
   "execution_count": 28,
   "id": "b9786cac",
   "metadata": {},
   "outputs": [
    {
     "name": "stdout",
     "output_type": "stream",
     "text": [
      "<class 'pandas.core.frame.DataFrame'>\n",
      "RangeIndex: 56 entries, 0 to 55\n",
      "Data columns (total 6 columns):\n",
      " #   Column          Non-Null Count  Dtype   \n",
      "---  ------          --------------  -----   \n",
      " 0   status_message  40 non-null     object  \n",
      " 1   link_name       56 non-null     category\n",
      " 2   status_type     56 non-null     category\n",
      " 3   num_reactions   56 non-null     int32   \n",
      " 4   num_shares      56 non-null     int32   \n",
      " 5   num_likes       56 non-null     int32   \n",
      "dtypes: category(2), int32(3), object(1)\n",
      "memory usage: 11.8 KB\n"
     ]
    }
   ],
   "source": [
    "fb.info(memory_usage='deep')"
   ]
  },
  {
   "cell_type": "code",
   "execution_count": null,
   "id": "11529583",
   "metadata": {},
   "outputs": [],
   "source": []
  }
 ],
 "metadata": {
  "kernelspec": {
   "display_name": "Python 3 (ipykernel)",
   "language": "python",
   "name": "python3"
  },
  "language_info": {
   "codemirror_mode": {
    "name": "ipython",
    "version": 3
   },
   "file_extension": ".py",
   "mimetype": "text/x-python",
   "name": "python",
   "nbconvert_exporter": "python",
   "pygments_lexer": "ipython3",
   "version": "3.9.7"
  }
 },
 "nbformat": 4,
 "nbformat_minor": 5
}
