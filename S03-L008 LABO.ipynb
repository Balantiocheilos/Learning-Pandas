{
 "cells": [
  {
   "cell_type": "code",
   "execution_count": 12,
   "id": "8ba064a3",
   "metadata": {},
   "outputs": [],
   "source": [
    "import pandas as pd\n",
    "import numpy as np\n",
    "fuel=pd.read_csv('./data/fuel.csv',low_memory=False,index_col='Vehicle ID',\n",
    "                usecols=['Vehicle ID','Year','Make','Model','Class',\n",
    "                        'Fuel Type','Combined MPG (FT1)'])"
   ]
  },
  {
   "cell_type": "code",
   "execution_count": 13,
   "id": "2dbcd282",
   "metadata": {
    "collapsed": true
   },
   "outputs": [
    {
     "name": "stdout",
     "output_type": "stream",
     "text": [
      "<class 'pandas.core.frame.DataFrame'>\n",
      "Int64Index: 31684 entries, 26587 to 32106\n",
      "Data columns (total 6 columns):\n",
      " #   Column              Non-Null Count  Dtype  \n",
      "---  ------              --------------  -----  \n",
      " 0   Year                31684 non-null  int64  \n",
      " 1   Make                31684 non-null  object \n",
      " 2   Model               31683 non-null  object \n",
      " 3   Class               31683 non-null  object \n",
      " 4   Fuel Type           31683 non-null  object \n",
      " 5   Combined MPG (FT1)  31683 non-null  float64\n",
      "dtypes: float64(1), int64(1), object(4)\n",
      "memory usage: 8.9 MB\n"
     ]
    }
   ],
   "source": [
    "fuel.info(memory_usage='deep')"
   ]
  },
  {
   "cell_type": "code",
   "execution_count": 14,
   "id": "9690eb49",
   "metadata": {},
   "outputs": [],
   "source": [
    "fuel.Year=fuel.Year.astype('int')"
   ]
  },
  {
   "cell_type": "code",
   "execution_count": 15,
   "id": "f7b031eb",
   "metadata": {
    "collapsed": true
   },
   "outputs": [
    {
     "name": "stdout",
     "output_type": "stream",
     "text": [
      "<class 'pandas.core.frame.DataFrame'>\n",
      "Int64Index: 31684 entries, 26587 to 32106\n",
      "Data columns (total 6 columns):\n",
      " #   Column              Non-Null Count  Dtype  \n",
      "---  ------              --------------  -----  \n",
      " 0   Year                31684 non-null  int32  \n",
      " 1   Make                31684 non-null  object \n",
      " 2   Model               31683 non-null  object \n",
      " 3   Class               31683 non-null  object \n",
      " 4   Fuel Type           31683 non-null  object \n",
      " 5   Combined MPG (FT1)  31683 non-null  float64\n",
      "dtypes: float64(1), int32(1), object(4)\n",
      "memory usage: 8.8 MB\n"
     ]
    }
   ],
   "source": [
    "fuel.info(memory_usage='deep')"
   ]
  },
  {
   "cell_type": "code",
   "execution_count": 16,
   "id": "ad1e345c",
   "metadata": {
    "collapsed": true
   },
   "outputs": [
    {
     "data": {
      "text/plain": [
       "Make\n",
       "Chevrolet                           3389\n",
       "Ford                                2721\n",
       "Dodge                               2361\n",
       "GMC                                 2174\n",
       "Toyota                              1599\n",
       "                                    ... \n",
       "Panoz Auto-Development                 1\n",
       "CODA Automotive                        1\n",
       "Environmental Rsch and Devp Corp       1\n",
       "E. P. Dutton, Inc.                     1\n",
       "ASC Incorporated                       1\n",
       "Length: 128, dtype: int64"
      ]
     },
     "execution_count": 16,
     "metadata": {},
     "output_type": "execute_result"
    }
   ],
   "source": [
    "fuel.value_counts('Make')"
   ]
  },
  {
   "cell_type": "code",
   "execution_count": 17,
   "id": "0b5f9cc6",
   "metadata": {},
   "outputs": [],
   "source": [
    "fuel.Make=fuel.Make.astype('category')"
   ]
  },
  {
   "cell_type": "code",
   "execution_count": 18,
   "id": "eb487dd6",
   "metadata": {
    "collapsed": true
   },
   "outputs": [
    {
     "name": "stdout",
     "output_type": "stream",
     "text": [
      "<class 'pandas.core.frame.DataFrame'>\n",
      "Int64Index: 31684 entries, 26587 to 32106\n",
      "Data columns (total 6 columns):\n",
      " #   Column              Non-Null Count  Dtype   \n",
      "---  ------              --------------  -----   \n",
      " 0   Year                31684 non-null  int32   \n",
      " 1   Make                31684 non-null  category\n",
      " 2   Model               31683 non-null  object  \n",
      " 3   Class               31683 non-null  object  \n",
      " 4   Fuel Type           31683 non-null  object  \n",
      " 5   Combined MPG (FT1)  31683 non-null  float64 \n",
      "dtypes: category(1), float64(1), int32(1), object(3)\n",
      "memory usage: 6.9 MB\n"
     ]
    }
   ],
   "source": [
    "fuel.info(memory_usage='deep')"
   ]
  },
  {
   "cell_type": "code",
   "execution_count": 21,
   "id": "cd087358",
   "metadata": {},
   "outputs": [],
   "source": [
    "fuel.Model=fuel.Model.astype('category')"
   ]
  },
  {
   "cell_type": "code",
   "execution_count": 22,
   "id": "8b98047b",
   "metadata": {
    "collapsed": true
   },
   "outputs": [
    {
     "name": "stdout",
     "output_type": "stream",
     "text": [
      "<class 'pandas.core.frame.DataFrame'>\n",
      "Int64Index: 31684 entries, 26587 to 32106\n",
      "Data columns (total 6 columns):\n",
      " #   Column              Non-Null Count  Dtype   \n",
      "---  ------              --------------  -----   \n",
      " 0   Year                31684 non-null  int32   \n",
      " 1   Make                31684 non-null  category\n",
      " 2   Model               31683 non-null  category\n",
      " 3   Class               31683 non-null  object  \n",
      " 4   Fuel Type           31683 non-null  object  \n",
      " 5   Combined MPG (FT1)  31683 non-null  float64 \n",
      "dtypes: category(2), float64(1), int32(1), object(2)\n",
      "memory usage: 5.2 MB\n"
     ]
    }
   ],
   "source": [
    "fuel.info(memory_usage='deep')"
   ]
  },
  {
   "cell_type": "code",
   "execution_count": 25,
   "id": "5f9c4d44",
   "metadata": {
    "collapsed": true
   },
   "outputs": [
    {
     "name": "stdout",
     "output_type": "stream",
     "text": [
      "<class 'pandas.core.frame.DataFrame'>\n",
      "Int64Index: 31684 entries, 26587 to 32106\n",
      "Data columns (total 6 columns):\n",
      " #   Column              Non-Null Count  Dtype   \n",
      "---  ------              --------------  -----   \n",
      " 0   Year                31684 non-null  int32   \n",
      " 1   Make                31684 non-null  category\n",
      " 2   Model               31683 non-null  category\n",
      " 3   Class               31683 non-null  category\n",
      " 4   Fuel Type           31683 non-null  object  \n",
      " 5   Combined MPG (FT1)  31683 non-null  float64 \n",
      "dtypes: category(3), float64(1), int32(1), object(1)\n",
      "memory usage: 3.0 MB\n"
     ]
    }
   ],
   "source": [
    "fuel.Class=fuel.Class.astype('category')\n",
    "fuel.info(memory_usage='deep')"
   ]
  },
  {
   "cell_type": "code",
   "execution_count": 26,
   "id": "6288104a",
   "metadata": {
    "collapsed": true
   },
   "outputs": [
    {
     "name": "stdout",
     "output_type": "stream",
     "text": [
      "<class 'pandas.core.frame.DataFrame'>\n",
      "Int64Index: 31684 entries, 26587 to 32106\n",
      "Data columns (total 6 columns):\n",
      " #   Column              Non-Null Count  Dtype   \n",
      "---  ------              --------------  -----   \n",
      " 0   Year                31684 non-null  int32   \n",
      " 1   Make                31684 non-null  category\n",
      " 2   Model               31683 non-null  category\n",
      " 3   Class               31683 non-null  category\n",
      " 4   Fuel Type           31683 non-null  category\n",
      " 5   Combined MPG (FT1)  31683 non-null  float64 \n",
      "dtypes: category(4), float64(1), int32(1)\n",
      "memory usage: 1.1 MB\n"
     ]
    }
   ],
   "source": [
    "fuel['Fuel Type']=fuel['Fuel Type'].astype('category')\n",
    "fuel.info(memory_usage='deep')"
   ]
  },
  {
   "cell_type": "code",
   "execution_count": 27,
   "id": "9db56210",
   "metadata": {},
   "outputs": [
    {
     "name": "stdout",
     "output_type": "stream",
     "text": [
      "<class 'pandas.core.frame.DataFrame'>\n",
      "Int64Index: 31684 entries, 26587 to 32106\n",
      "Data columns (total 6 columns):\n",
      " #   Column              Non-Null Count  Dtype   \n",
      "---  ------              --------------  -----   \n",
      " 0   Year                31684 non-null  int32   \n",
      " 1   Make                31684 non-null  category\n",
      " 2   Model               31683 non-null  category\n",
      " 3   Class               31683 non-null  category\n",
      " 4   Fuel Type           31683 non-null  category\n",
      " 5   Combined MPG (FT1)  31683 non-null  float64 \n",
      "dtypes: category(4), float64(1), int32(1)\n",
      "memory usage: 1.1 MB\n"
     ]
    }
   ],
   "source": [
    "fuel['Combined MPG (FT1)']=fuel['Combined MPG (FT1)'].astype('float')\n",
    "fuel.info(memory_usage='deep')"
   ]
  },
  {
   "cell_type": "code",
   "execution_count": null,
   "id": "21f83be4",
   "metadata": {},
   "outputs": [],
   "source": []
  }
 ],
 "metadata": {
  "kernelspec": {
   "display_name": "Python 3 (ipykernel)",
   "language": "python",
   "name": "python3"
  },
  "language_info": {
   "codemirror_mode": {
    "name": "ipython",
    "version": 3
   },
   "file_extension": ".py",
   "mimetype": "text/x-python",
   "name": "python",
   "nbconvert_exporter": "python",
   "pygments_lexer": "ipython3",
   "version": "3.9.7"
  }
 },
 "nbformat": 4,
 "nbformat_minor": 5
}
